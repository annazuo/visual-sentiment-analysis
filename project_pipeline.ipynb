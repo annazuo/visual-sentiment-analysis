{
  "nbformat": 4,
  "nbformat_minor": 0,
  "metadata": {
    "colab": {
      "provenance": []
    },
    "kernelspec": {
      "name": "python3",
      "display_name": "Python 3"
    },
    "language_info": {
      "name": "python"
    },
    "accelerator": "GPU",
    "gpuClass": "standard"
  },
  "cells": [
    {
      "cell_type": "markdown",
      "source": [
        "#### Part 1"
      ],
      "metadata": {
        "id": "gJswqGyaduf9"
      }
    },
    {
      "cell_type": "code",
      "source": [
        "# Navigate to the music visualizer folder within the visual sentiment analysis repo\n",
        "cd /content/drive/MyDrive/visual-sentiment-analysis/music-visualizer/"
      ],
      "metadata": {
        "id": "lmrZOQmpdwtM"
      },
      "execution_count": null,
      "outputs": []
    },
    {
      "cell_type": "code",
      "source": [
        "# Generate music video using funky sound track \n",
        "!python visualize.py --resolution 128 --duration 60 --song funky.mp3 --pitch_sensitivity 220 --tempo_sensitivity 0.25 --mood funky"
      ],
      "metadata": {
        "id": "I7w9h6aedzMW"
      },
      "execution_count": null,
      "outputs": []
    },
    {
      "cell_type": "markdown",
      "source": [
        "#### Part 2 "
      ],
      "metadata": {
        "id": "Fqs_fLYcdr_Y"
      }
    },
    {
      "cell_type": "code",
      "source": [
        "# Navigate to the sentiment analysis folder within the visual sentiment analysis repo\n",
        "cd /content/drive/MyDrive/visual-sentiment-analysis/sentiment-analysis/"
      ],
      "metadata": {
        "id": "cbYVJ7GaY7-J"
      },
      "execution_count": null,
      "outputs": []
    },
    {
      "cell_type": "code",
      "source": [
        "# Checking directory path\n",
        "pwd"
      ],
      "metadata": {
        "id": "qgdPEJzQZDg5"
      },
      "execution_count": null,
      "outputs": []
    },
    {
      "cell_type": "code",
      "source": [
        "# Download pre-trained models\n",
        "!bash download_models.sh"
      ],
      "metadata": {
        "id": "BXy70Txtaoj9"
      },
      "execution_count": null,
      "outputs": []
    },
    {
      "cell_type": "code",
      "source": [
        "# Extract samples from music video \n",
        "!python frame_extract.py funky 220,25"
      ],
      "metadata": {
        "id": "mcFfIovUZEFO"
      },
      "execution_count": null,
      "outputs": []
    },
    {
      "cell_type": "code",
      "source": [
        "# Predict the sentiment \n",
        "!python predict.py funky_220_25.txt --model vgg19_finetuned_all --batch-size 64 > funky_220_25.csv"
      ],
      "metadata": {
        "id": "Uh84gxPZZqV6"
      },
      "execution_count": null,
      "outputs": []
    },
    {
      "cell_type": "code",
      "source": [
        "# Print result of the sentiment\n",
        "!python parse_predictions.py funky_220_25.csv"
      ],
      "metadata": {
        "id": "jiaoMwixiqGe"
      },
      "execution_count": null,
      "outputs": []
    }
  ]
}